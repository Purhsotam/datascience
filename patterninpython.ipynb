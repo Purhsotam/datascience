{
  "nbformat": 4,
  "nbformat_minor": 0,
  "metadata": {
    "colab": {
      "provenance": [],
      "collapsed_sections": [
        "opUj7UDVjzM6",
        "tscgbXUDjnR5",
        "OF-h3Wm8jeOl",
        "hrLBuEmjeOn0",
        "Z1fS0mm2eEpU",
        "FyPTPerwjrzr"
      ]
    },
    "kernelspec": {
      "name": "python3",
      "display_name": "Python 3"
    },
    "language_info": {
      "name": "python"
    }
  },
  "cells": [
    {
      "cell_type": "markdown",
      "source": [
        "# Simple loops"
      ],
      "metadata": {
        "id": "USrUKMk7jwh5"
      }
    },
    {
      "cell_type": "code",
      "execution_count": null,
      "metadata": {
        "colab": {
          "base_uri": "https://localhost:8080/"
        },
        "id": "43zyc7v3_e2s",
        "outputId": "95343c0d-e9dc-481f-c917-cc993d9054b7"
      },
      "outputs": [
        {
          "output_type": "stream",
          "name": "stdout",
          "text": [
            "Enter Number of star to print  10\n",
            "* * * * * * * * * * "
          ]
        }
      ],
      "source": [
        "n = int(input(\"Enter Number of star to print  \"))\n",
        "for i in range(n):\n",
        "  print('*',end = \" \")"
      ]
    },
    {
      "cell_type": "markdown",
      "source": [
        "## square patterns"
      ],
      "metadata": {
        "id": "opUj7UDVjzM6"
      }
    },
    {
      "cell_type": "markdown",
      "source": [
        "square pattern with symbol"
      ],
      "metadata": {
        "id": "NaTyFRGgCq8b"
      }
    },
    {
      "cell_type": "code",
      "source": [
        "n = int(input(\"Enter Number of star to print  \"))\n",
        "for i in range(n):\n",
        "  for j in range(n):\n",
        "    print('*',end = \" \")\n",
        "  print()"
      ],
      "metadata": {
        "colab": {
          "base_uri": "https://localhost:8080/"
        },
        "id": "uPzqX9CWATwi",
        "outputId": "732b72c3-5ccc-49c0-8dfd-b3e1853b95ea"
      },
      "execution_count": null,
      "outputs": [
        {
          "output_type": "stream",
          "name": "stdout",
          "text": [
            "Enter Number of star to print  5\n",
            "* * * * * \n",
            "* * * * * \n",
            "* * * * * \n",
            "* * * * * \n",
            "* * * * * \n"
          ]
        }
      ]
    },
    {
      "cell_type": "code",
      "source": [
        "n = int(input())\n",
        "for i in range(n):\n",
        "  print('* '*n)"
      ],
      "metadata": {
        "colab": {
          "base_uri": "https://localhost:8080/"
        },
        "id": "RzgjD7thCOo3",
        "outputId": "774cac0c-9df3-457f-c419-7f63890a7323"
      },
      "execution_count": null,
      "outputs": [
        {
          "output_type": "stream",
          "name": "stdout",
          "text": [
            "4\n",
            "* * * * \n",
            "* * * * \n",
            "* * * * \n",
            "* * * * \n"
          ]
        }
      ]
    },
    {
      "cell_type": "markdown",
      "source": [
        "print specific digit with that specific number of time"
      ],
      "metadata": {
        "id": "QrXNbh66CveN"
      }
    },
    {
      "cell_type": "code",
      "source": [
        "n = int(input())\n",
        "s = str(n)\n",
        "for i in range(n):\n",
        "  print((s+' ') *n)"
      ],
      "metadata": {
        "colab": {
          "base_uri": "https://localhost:8080/"
        },
        "id": "yB_7Sp8uC7H7",
        "outputId": "c610f30a-9316-4087-fe3e-ed87b01925af"
      },
      "execution_count": null,
      "outputs": [
        {
          "output_type": "stream",
          "name": "stdout",
          "text": [
            "6\n",
            "6 6 6 6 6 6 \n",
            "6 6 6 6 6 6 \n",
            "6 6 6 6 6 6 \n",
            "6 6 6 6 6 6 \n",
            "6 6 6 6 6 6 \n",
            "6 6 6 6 6 6 \n"
          ]
        }
      ]
    },
    {
      "cell_type": "markdown",
      "source": [
        "print serial number 1 to n "
      ],
      "metadata": {
        "id": "LjJAz6gKEZ75"
      }
    },
    {
      "cell_type": "code",
      "source": [
        "n = int(input(\"enter n \"))\n",
        "for i in range(n):\n",
        "  print((str(i+1)+' ') * n)"
      ],
      "metadata": {
        "colab": {
          "base_uri": "https://localhost:8080/"
        },
        "id": "SgtqKynrEZHN",
        "outputId": "f51c2fce-28ae-4883-997f-c3820c4873e9"
      },
      "execution_count": null,
      "outputs": [
        {
          "output_type": "stream",
          "name": "stdout",
          "text": [
            "enter n 7\n",
            "1 1 1 1 1 1 1 \n",
            "2 2 2 2 2 2 2 \n",
            "3 3 3 3 3 3 3 \n",
            "4 4 4 4 4 4 4 \n",
            "5 5 5 5 5 5 5 \n",
            "6 6 6 6 6 6 6 \n",
            "7 7 7 7 7 7 7 \n"
          ]
        }
      ]
    },
    {
      "cell_type": "markdown",
      "source": [
        "print alphabatic character given number of matrix"
      ],
      "metadata": {
        "id": "eZphAMtlYHkf"
      }
    },
    {
      "cell_type": "code",
      "source": [
        "n = int(input(\"Enter the number \"))\n",
        "for i in range(n):\n",
        "  print('A '*n)"
      ],
      "metadata": {
        "colab": {
          "base_uri": "https://localhost:8080/"
        },
        "id": "mZjGSKEHYUqp",
        "outputId": "f3b52500-c6ba-4ace-8647-b3e4f22878b5"
      },
      "execution_count": null,
      "outputs": [
        {
          "output_type": "stream",
          "name": "stdout",
          "text": [
            "Enter the number 5\n",
            "A A A A A \n",
            "A A A A A \n",
            "A A A A A \n",
            "A A A A A \n",
            "A A A A A \n"
          ]
        }
      ]
    },
    {
      "cell_type": "code",
      "source": [
        "n = int(input(\"Enter value  \"))\n",
        "for i in range(n):\n",
        "  print((str(chr(65 + i)) + ' ') * n)"
      ],
      "metadata": {
        "colab": {
          "base_uri": "https://localhost:8080/"
        },
        "id": "XhvaRcpFj5a4",
        "outputId": "d679f914-51fd-4ce9-d425-35eab85c2fdc"
      },
      "execution_count": null,
      "outputs": [
        {
          "output_type": "stream",
          "name": "stdout",
          "text": [
            "Enter value  8\n",
            "A A A A A A A A \n",
            "B B B B B B B B \n",
            "C C C C C C C C \n",
            "D D D D D D D D \n",
            "E E E E E E E E \n",
            "F F F F F F F F \n",
            "G G G G G G G G \n",
            "H H H H H H H H \n"
          ]
        }
      ]
    },
    {
      "cell_type": "markdown",
      "source": [
        "print square pattern with digits"
      ],
      "metadata": {
        "id": "5HfA0s_P0Nr3"
      }
    },
    {
      "cell_type": "code",
      "source": [
        "n = int(input())\n",
        "for i in range(n):\n",
        "  print(i + 1,end= \"   \")  # print index\n",
        "  for j in range(n):\n",
        "    print(str(j+1)+'',end = ' ') # print stateenrt with space\n",
        "  print() # to get into next line "
      ],
      "metadata": {
        "colab": {
          "base_uri": "https://localhost:8080/"
        },
        "id": "wzcbmayR0UW6",
        "outputId": "09f1dfc7-b68a-464b-b4a2-66ab92f87a80"
      },
      "execution_count": null,
      "outputs": [
        {
          "output_type": "stream",
          "name": "stdout",
          "text": [
            "8\n",
            "1   1 2 3 4 5 6 7 8 \n",
            "2   1 2 3 4 5 6 7 8 \n",
            "3   1 2 3 4 5 6 7 8 \n",
            "4   1 2 3 4 5 6 7 8 \n",
            "5   1 2 3 4 5 6 7 8 \n",
            "6   1 2 3 4 5 6 7 8 \n",
            "7   1 2 3 4 5 6 7 8 \n",
            "8   1 2 3 4 5 6 7 8 \n"
          ]
        }
      ]
    },
    {
      "cell_type": "markdown",
      "source": [
        "print progressive alphabet in each row"
      ],
      "metadata": {
        "id": "aloCfa4V2aZr"
      }
    },
    {
      "cell_type": "code",
      "source": [
        "n = int(input())\n",
        "for i in range(n):\n",
        "  print(i + 1,end= \"   \")  # print index\n",
        "  for j in range(n):\n",
        "    print(chr(65+j),end = ' ') # print stateenrt with space\n",
        "  print() # to get into next line "
      ],
      "metadata": {
        "colab": {
          "base_uri": "https://localhost:8080/"
        },
        "id": "Kqw30Ctc2ZRc",
        "outputId": "d7b60d9a-5961-4da1-e1a3-5c72a203fff5"
      },
      "execution_count": null,
      "outputs": [
        {
          "output_type": "stream",
          "name": "stdout",
          "text": [
            "5\n",
            "1   A B C D E \n",
            "2   A B C D E \n",
            "3   A B C D E \n",
            "4   A B C D E \n",
            "5   A B C D E \n"
          ]
        }
      ]
    },
    {
      "cell_type": "markdown",
      "source": [
        "print digits in decending order"
      ],
      "metadata": {
        "id": "AWMeVQul2C99"
      }
    },
    {
      "cell_type": "code",
      "source": [
        "n = int(input())\n",
        "for i in range(n):\n",
        "  print((str(n-i) + ' ')*n)"
      ],
      "metadata": {
        "colab": {
          "base_uri": "https://localhost:8080/"
        },
        "id": "bLoQeWcU2CTw",
        "outputId": "cbc1bda0-35bc-450f-f6c5-137a54708a0b"
      },
      "execution_count": null,
      "outputs": [
        {
          "output_type": "stream",
          "name": "stdout",
          "text": [
            "8\n",
            "8 8 8 8 8 8 8 8 \n",
            "7 7 7 7 7 7 7 7 \n",
            "6 6 6 6 6 6 6 6 \n",
            "5 5 5 5 5 5 5 5 \n",
            "4 4 4 4 4 4 4 4 \n",
            "3 3 3 3 3 3 3 3 \n",
            "2 2 2 2 2 2 2 2 \n",
            "1 1 1 1 1 1 1 1 \n"
          ]
        }
      ]
    },
    {
      "cell_type": "markdown",
      "source": [
        "print square pattern alphabets in reverse order"
      ],
      "metadata": {
        "id": "m8h9zKH220vn"
      }
    },
    {
      "cell_type": "code",
      "source": [
        "n = int(input())\n",
        "for i in range(n):\n",
        "  print((chr(65 + n - i - 1) + ' ')*n)"
      ],
      "metadata": {
        "colab": {
          "base_uri": "https://localhost:8080/"
        },
        "id": "dN0EvtGl28be",
        "outputId": "e26eeb60-e826-46ea-b17d-184b09669007"
      },
      "execution_count": null,
      "outputs": [
        {
          "output_type": "stream",
          "name": "stdout",
          "text": [
            "10\n",
            "J J J J J J J J J J \n",
            "I I I I I I I I I I \n",
            "H H H H H H H H H H \n",
            "G G G G G G G G G G \n",
            "F F F F F F F F F F \n",
            "E E E E E E E E E E \n",
            "D D D D D D D D D D \n",
            "C C C C C C C C C C \n",
            "B B B B B B B B B B \n",
            "A A A A A A A A A A \n"
          ]
        }
      ]
    },
    {
      "cell_type": "markdown",
      "source": [
        "print square pattern with digits in decending order"
      ],
      "metadata": {
        "id": "Cxc1DpNM4j1L"
      }
    },
    {
      "cell_type": "code",
      "source": [
        "n = int(input())\n",
        "for i in range(n):\n",
        "  for j in range(n):\n",
        "    print((str(n-j )),end = ' ')\n",
        "  print()"
      ],
      "metadata": {
        "colab": {
          "base_uri": "https://localhost:8080/"
        },
        "id": "8SNx8wEI4pZg",
        "outputId": "2c379c4a-1cc1-4302-bacc-0efdf5e99875"
      },
      "execution_count": null,
      "outputs": [
        {
          "output_type": "stream",
          "name": "stdout",
          "text": [
            "6\n",
            "6 5 4 3 2 1 \n",
            "6 5 4 3 2 1 \n",
            "6 5 4 3 2 1 \n",
            "6 5 4 3 2 1 \n",
            "6 5 4 3 2 1 \n",
            "6 5 4 3 2 1 \n"
          ]
        }
      ]
    },
    {
      "cell_type": "markdown",
      "source": [
        "print square pattern with alphabets in reverse order"
      ],
      "metadata": {
        "id": "ye4iLo6n_mEI"
      }
    },
    {
      "cell_type": "code",
      "source": [
        "n = int(input())\n",
        "for i in range(n):\n",
        "  for j in range(n):\n",
        "    print(chr(65  + n  - j  - 1), end = ' ')\n",
        "  print()"
      ],
      "metadata": {
        "colab": {
          "base_uri": "https://localhost:8080/"
        },
        "id": "CoGzNRCX8q5v",
        "outputId": "9a454a4f-e24b-44e5-ac49-50ce8178aa9d"
      },
      "execution_count": null,
      "outputs": [
        {
          "output_type": "stream",
          "name": "stdout",
          "text": [
            "5\n",
            "E D C B A \n",
            "E D C B A \n",
            "E D C B A \n",
            "E D C B A \n",
            "E D C B A \n"
          ]
        }
      ]
    },
    {
      "cell_type": "markdown",
      "source": [
        "##Right angle triangle"
      ],
      "metadata": {
        "id": "tscgbXUDjnR5"
      }
    },
    {
      "cell_type": "markdown",
      "source": [
        "print right angle tringle with *"
      ],
      "metadata": {
        "id": "6HR42sW3_3lT"
      }
    },
    {
      "cell_type": "code",
      "source": [
        "n  = int(input())\n",
        "for i in range(n):\n",
        "  for j in range(i + 1):\n",
        "    print('*', end = ' ')\n",
        "  print()"
      ],
      "metadata": {
        "colab": {
          "base_uri": "https://localhost:8080/"
        },
        "id": "zV7Wyvs6_2lq",
        "outputId": "6fde1157-b969-4b9c-c02a-2fb4c392d867"
      },
      "execution_count": null,
      "outputs": [
        {
          "output_type": "stream",
          "name": "stdout",
          "text": [
            "8\n",
            "* \n",
            "* * \n",
            "* * * \n",
            "* * * * \n",
            "* * * * * \n",
            "* * * * * * \n",
            "* * * * * * * \n",
            "* * * * * * * * \n"
          ]
        }
      ]
    },
    {
      "cell_type": "markdown",
      "source": [
        "print right angle triangle pattern with digit fixed in each row"
      ],
      "metadata": {
        "id": "eXg0LSaEBAWP"
      }
    },
    {
      "cell_type": "code",
      "source": [
        "n = int(input())\n",
        "for i in range(n):\n",
        "\n",
        "  for j in range(i + 1):\n",
        "    print(str(i + 1), end = ' ')\n",
        "  print()"
      ],
      "metadata": {
        "colab": {
          "base_uri": "https://localhost:8080/"
        },
        "id": "GE2NDTndBLRy",
        "outputId": "0cde7fce-456b-43aa-bc21-f388a22fe0e7"
      },
      "execution_count": null,
      "outputs": [
        {
          "output_type": "stream",
          "name": "stdout",
          "text": [
            "8\n",
            "1 \n",
            "2 2 \n",
            "3 3 3 \n",
            "4 4 4 4 \n",
            "5 5 5 5 5 \n",
            "6 6 6 6 6 6 \n",
            "7 7 7 7 7 7 7 \n",
            "8 8 8 8 8 8 8 8 \n"
          ]
        }
      ]
    },
    {
      "cell_type": "markdown",
      "source": [
        "with 1 for loop"
      ],
      "metadata": {
        "id": "OefaCaoRCpG2"
      }
    },
    {
      "cell_type": "code",
      "source": [
        "n  = int(input())\n",
        "for i in range(n):\n",
        "  print((str(i + 1) + ' ') * (i + 1))"
      ],
      "metadata": {
        "colab": {
          "base_uri": "https://localhost:8080/"
        },
        "id": "lQbhM5UnCFqC",
        "outputId": "d3c7c705-af7f-4825-ed6d-250f75944d29"
      },
      "execution_count": null,
      "outputs": [
        {
          "output_type": "stream",
          "name": "stdout",
          "text": [
            "5\n",
            "1 \n",
            "2 2 \n",
            "3 3 3 \n",
            "4 4 4 4 \n",
            "5 5 5 5 5 \n"
          ]
        }
      ]
    },
    {
      "cell_type": "markdown",
      "source": [
        "print right angle triangle with alphabets"
      ],
      "metadata": {
        "id": "SmZpPUvGGzTn"
      }
    },
    {
      "cell_type": "code",
      "source": [
        "n  = int(input())\n",
        "for i in range(n):\n",
        "  print((chr(65  + i) + ' ' )* (i + 1))"
      ],
      "metadata": {
        "colab": {
          "base_uri": "https://localhost:8080/"
        },
        "id": "EeSB-4ZMGyS6",
        "outputId": "9fa175c3-2455-403e-d3af-ef55d6924d92"
      },
      "execution_count": null,
      "outputs": [
        {
          "output_type": "stream",
          "name": "stdout",
          "text": [
            "8\n",
            "A \n",
            "B B \n",
            "C C C \n",
            "D D D D \n",
            "E E E E E \n",
            "F F F F F F \n",
            "G G G G G G G \n",
            "H H H H H H H H \n"
          ]
        }
      ]
    },
    {
      "cell_type": "markdown",
      "source": [
        "print right angle pattern triangle in decending order of number "
      ],
      "metadata": {
        "id": "ubVCj67JWQck"
      }
    },
    {
      "cell_type": "code",
      "source": [
        "n = int(input())\n",
        "for i in range(n):\n",
        "  for j in range(i + 1):\n",
        "    print((str(n - j ) + ' '), end = \" \")\n",
        "  print()"
      ],
      "metadata": {
        "colab": {
          "base_uri": "https://localhost:8080/"
        },
        "id": "PwvL6FG_Wcbz",
        "outputId": "b0f2f538-b1cf-408d-cb80-2f60d4333545"
      },
      "execution_count": null,
      "outputs": [
        {
          "output_type": "stream",
          "name": "stdout",
          "text": [
            "8\n",
            "8  \n",
            "8  7  \n",
            "8  7  6  \n",
            "8  7  6  5  \n",
            "8  7  6  5  4  \n",
            "8  7  6  5  4  3  \n",
            "8  7  6  5  4  3  2  \n",
            "8  7  6  5  4  3  2  1  \n"
          ]
        }
      ]
    },
    {
      "cell_type": "markdown",
      "source": [
        "print right angle triangle with reverse order alphabets"
      ],
      "metadata": {
        "id": "NX1anuIMafDt"
      }
    },
    {
      "cell_type": "code",
      "source": [
        "n = int(input())\n",
        "for i in range(n):\n",
        "  for j in range(i + 1):\n",
        "    print(chr(65 + n - j -1) , end = ' ')\n",
        "  print()"
      ],
      "metadata": {
        "colab": {
          "base_uri": "https://localhost:8080/"
        },
        "id": "PKOI4x_naenq",
        "outputId": "749730df-58a6-4ef1-a5ba-4c73ae306a3d"
      },
      "execution_count": null,
      "outputs": [
        {
          "output_type": "stream",
          "name": "stdout",
          "text": [
            "8\n",
            "H \n",
            "H G \n",
            "H G F \n",
            "H G F E \n",
            "H G F E D \n",
            "H G F E D C \n",
            "H G F E D C B \n",
            "H G F E D C B A \n"
          ]
        }
      ]
    },
    {
      "cell_type": "markdown",
      "source": [
        "##Inverted right angled triangle"
      ],
      "metadata": {
        "id": "OF-h3Wm8jeOl"
      }
    },
    {
      "cell_type": "markdown",
      "source": [
        "print inverted right angled triangle with * symbols"
      ],
      "metadata": {
        "id": "hZIj7BxvjBxr"
      }
    },
    {
      "cell_type": "code",
      "source": [
        "n = int(input())\n",
        "for i in range(n):\n",
        "  print('* ' * (n - i))"
      ],
      "metadata": {
        "colab": {
          "base_uri": "https://localhost:8080/"
        },
        "id": "VaaDVCt6jLnA",
        "outputId": "f437ec34-f096-472a-c143-bdd2ddea218d"
      },
      "execution_count": null,
      "outputs": [
        {
          "output_type": "stream",
          "name": "stdout",
          "text": [
            "8\n",
            "* * * * * * * * \n",
            "* * * * * * * \n",
            "* * * * * * \n",
            "* * * * * \n",
            "* * * * \n",
            "* * * \n",
            "* * \n",
            "* \n"
          ]
        }
      ]
    },
    {
      "cell_type": "markdown",
      "source": [
        "print inverted right angle triangle pattern with fixed digit"
      ],
      "metadata": {
        "id": "v9_C9iwxkUxQ"
      }
    },
    {
      "cell_type": "code",
      "source": [
        "n = int(input())\n",
        "for i in range(n):\n",
        "  print((str(i + 1) + ' ') * (n - i))"
      ],
      "metadata": {
        "colab": {
          "base_uri": "https://localhost:8080/"
        },
        "id": "GcAkdl2DkIrz",
        "outputId": "8a2125eb-36da-4a80-a807-467b164f0aa7"
      },
      "execution_count": null,
      "outputs": [
        {
          "output_type": "stream",
          "name": "stdout",
          "text": [
            "8\n",
            "1 1 1 1 1 1 1 1 \n",
            "2 2 2 2 2 2 2 \n",
            "3 3 3 3 3 3 \n",
            "4 4 4 4 4 \n",
            "5 5 5 5 \n",
            "6 6 6 \n",
            "7 7 \n",
            "8 \n"
          ]
        }
      ]
    },
    {
      "cell_type": "markdown",
      "source": [
        "print inverted right angle triangle pattern with fixed alphabet symbol in each row"
      ],
      "metadata": {
        "id": "f2fBqFrulLw9"
      }
    },
    {
      "cell_type": "code",
      "source": [
        "n = int(input())\n",
        "for i in range(n):\n",
        "  print((chr(65 + i) + ' ')* (n - i))"
      ],
      "metadata": {
        "colab": {
          "base_uri": "https://localhost:8080/"
        },
        "id": "EE5MlhyXlZ9T",
        "outputId": "a04e9a60-2959-4c80-ee78-dc70eec522bc"
      },
      "execution_count": null,
      "outputs": [
        {
          "output_type": "stream",
          "name": "stdout",
          "text": [
            "8\n",
            "A A A A A A A A \n",
            "B B B B B B B \n",
            "C C C C C C \n",
            "D D D D D \n",
            "E E E E \n",
            "F F F \n",
            "G G \n",
            "H \n"
          ]
        }
      ]
    },
    {
      "cell_type": "markdown",
      "source": [
        "print inverted right angle triangle pattern with fixed digit in each row "
      ],
      "metadata": {
        "id": "GqMo1eecmVUY"
      }
    },
    {
      "cell_type": "code",
      "source": [
        "n = int(input())\n",
        "for i in range(n):\n",
        "  print((str(n - i ) + ' ')* (n - i ))"
      ],
      "metadata": {
        "colab": {
          "base_uri": "https://localhost:8080/"
        },
        "id": "-7I1sDscmidC",
        "outputId": "55bee2f5-d097-4669-d936-239768545110"
      },
      "execution_count": null,
      "outputs": [
        {
          "output_type": "stream",
          "name": "stdout",
          "text": [
            "8\n",
            "8 8 8 8 8 8 8 8 \n",
            "7 7 7 7 7 7 7 \n",
            "6 6 6 6 6 6 \n",
            "5 5 5 5 5 \n",
            "4 4 4 4 \n",
            "3 3 3 \n",
            "2 2 \n",
            "1 \n"
          ]
        }
      ]
    },
    {
      "cell_type": "markdown",
      "source": [
        "print inverted right angle triangle pattern with fixed alphabet symbol in every row"
      ],
      "metadata": {
        "id": "eDElmD7InHpb"
      }
    },
    {
      "cell_type": "code",
      "source": [
        "n = int(input())\n",
        "for i in range(n):\n",
        "  print((chr(65 + n - i - 1) + ' ') * (n - i))\n",
        "  "
      ],
      "metadata": {
        "colab": {
          "base_uri": "https://localhost:8080/"
        },
        "id": "9paLHlqunGfs",
        "outputId": "96a2dfe0-2c58-49a0-ce32-bf2b7eae1679"
      },
      "execution_count": null,
      "outputs": [
        {
          "output_type": "stream",
          "name": "stdout",
          "text": [
            "8\n",
            "H H H H H H H H \n",
            "G G G G G G G \n",
            "F F F F F F \n",
            "E E E E E \n",
            "D D D D \n",
            "C C C \n",
            "B B \n",
            "A \n"
          ]
        }
      ]
    },
    {
      "cell_type": "code",
      "source": [
        "n = int(input())\n",
        "for i in range(n):\n",
        "  for j in range( n - i):\n",
        "    print( str(j + 1), end = ' ')\n",
        "  print()"
      ],
      "metadata": {
        "colab": {
          "base_uri": "https://localhost:8080/"
        },
        "id": "FRrfeLi1oKXA",
        "outputId": "8c5b13e1-38eb-428e-aa9a-d63c1fcec8c5"
      },
      "execution_count": null,
      "outputs": [
        {
          "output_type": "stream",
          "name": "stdout",
          "text": [
            "8\n",
            "1 2 3 4 5 6 7 8 \n",
            "1 2 3 4 5 6 7 \n",
            "1 2 3 4 5 6 \n",
            "1 2 3 4 5 \n",
            "1 2 3 4 \n",
            "1 2 3 \n",
            "1 2 \n",
            "1 \n"
          ]
        }
      ]
    },
    {
      "cell_type": "markdown",
      "source": [
        "print right angled inverted triangle pattern with symbols in dictionary order in each row"
      ],
      "metadata": {
        "id": "sva6tenXqOH1"
      }
    },
    {
      "cell_type": "code",
      "source": [
        "n  = int(input())\n",
        "for i in range(n):\n",
        "  for j in range(n - i):\n",
        "    print(chr(65 + j), end =  ' ')\n",
        "  print()"
      ],
      "metadata": {
        "colab": {
          "base_uri": "https://localhost:8080/"
        },
        "id": "Vz9pVGgYqwO-",
        "outputId": "6da0f3a0-e465-4888-9123-8c804fdb3146"
      },
      "execution_count": null,
      "outputs": [
        {
          "output_type": "stream",
          "name": "stdout",
          "text": [
            "8\n",
            "A B C D E F G H \n",
            "A B C D E F G \n",
            "A B C D E F \n",
            "A B C D E \n",
            "A B C D \n",
            "A B C \n",
            "A B \n",
            "A \n"
          ]
        }
      ]
    },
    {
      "cell_type": "markdown",
      "source": [
        "print inverted right angled triangle pattern with digits decending order in every row"
      ],
      "metadata": {
        "id": "O6g-hH_nsD_L"
      }
    },
    {
      "cell_type": "code",
      "source": [
        "n = int(input())\n",
        "for i in range(n):\n",
        "  for j in range(n - i):\n",
        "    print( str(n - j), end = ' ' )\n",
        "\n",
        "  print()"
      ],
      "metadata": {
        "colab": {
          "base_uri": "https://localhost:8080/"
        },
        "id": "uC3y5IyJsSzM",
        "outputId": "51e850ca-d262-4636-898f-c1fb328810fc"
      },
      "execution_count": null,
      "outputs": [
        {
          "output_type": "stream",
          "name": "stdout",
          "text": [
            "8\n",
            "8 7 6 5 4 3 2 1 \n",
            "8 7 6 5 4 3 2 \n",
            "8 7 6 5 4 3 \n",
            "8 7 6 5 4 \n",
            "8 7 6 5 \n",
            "8 7 6 \n",
            "8 7 \n",
            "8 \n"
          ]
        }
      ]
    },
    {
      "cell_type": "markdown",
      "source": [
        "print inverted right angled triangle pattern with alphabet symbol in reverse of dictionary order in every row"
      ],
      "metadata": {
        "id": "iNVUpOYWwKvK"
      }
    },
    {
      "cell_type": "code",
      "source": [
        "n = int(input())\n",
        "for i in range(n):\n",
        "  for j in range(n - i):\n",
        "    print(chr(65 + n - j - 1),end = ' ')\n",
        "  print()"
      ],
      "metadata": {
        "colab": {
          "base_uri": "https://localhost:8080/"
        },
        "id": "AViTkvQGwjUk",
        "outputId": "07562cc5-21b7-4748-95ed-93ecfca7c8b3"
      },
      "execution_count": null,
      "outputs": [
        {
          "output_type": "stream",
          "name": "stdout",
          "text": [
            "8\n",
            "H G F E D C B A \n",
            "H G F E D C B \n",
            "H G F E D C \n",
            "H G F E D \n",
            "H G F E \n",
            "H G F \n",
            "H G \n",
            "H \n"
          ]
        }
      ]
    },
    {
      "cell_type": "markdown",
      "source": [
        "##Pyramid pattern"
      ],
      "metadata": {
        "id": "hrLBuEmjeOn0"
      }
    },
    {
      "cell_type": "markdown",
      "source": [
        "print pyramid pattern with symbols"
      ],
      "metadata": {
        "id": "qkuwO6JYxes5"
      }
    },
    {
      "cell_type": "code",
      "source": [
        "n = int(input())\n",
        "for i in range(n):\n",
        "  print( ' ' * (n - i - 1 ) + '* ' * ( i + 1) )"
      ],
      "metadata": {
        "colab": {
          "base_uri": "https://localhost:8080/"
        },
        "id": "tKjyODAFxm7E",
        "outputId": "5820cf43-8049-4913-df5b-56c9881d5d9c"
      },
      "execution_count": null,
      "outputs": [
        {
          "output_type": "stream",
          "name": "stdout",
          "text": [
            "5\n",
            "    * \n",
            "   * * \n",
            "  * * * \n",
            " * * * * \n",
            "* * * * * \n"
          ]
        }
      ]
    },
    {
      "cell_type": "markdown",
      "source": [
        "print fixed digit in every row works upto 9 "
      ],
      "metadata": {
        "id": "5p-dR5xD2BH5"
      }
    },
    {
      "cell_type": "code",
      "source": [
        "n = int(input())\n",
        "for i in range(n):\n",
        "  print(\" \" * ( n - i - 1 ) + (str(i + 1) + ' ') * (i + 1))"
      ],
      "metadata": {
        "colab": {
          "base_uri": "https://localhost:8080/"
        },
        "id": "lOADRvuh2AiL",
        "outputId": "3c4f0b04-3bfc-423d-f263-2ec12bad9103"
      },
      "execution_count": null,
      "outputs": [
        {
          "output_type": "stream",
          "name": "stdout",
          "text": [
            "15\n",
            "              1 \n",
            "             2 2 \n",
            "            3 3 3 \n",
            "           4 4 4 4 \n",
            "          5 5 5 5 5 \n",
            "         6 6 6 6 6 6 \n",
            "        7 7 7 7 7 7 7 \n",
            "       8 8 8 8 8 8 8 8 \n",
            "      9 9 9 9 9 9 9 9 9 \n",
            "     10 10 10 10 10 10 10 10 10 10 \n",
            "    11 11 11 11 11 11 11 11 11 11 11 \n",
            "   12 12 12 12 12 12 12 12 12 12 12 12 \n",
            "  13 13 13 13 13 13 13 13 13 13 13 13 13 \n",
            " 14 14 14 14 14 14 14 14 14 14 14 14 14 14 \n",
            "15 15 15 15 15 15 15 15 15 15 15 15 15 15 15 \n"
          ]
        }
      ]
    },
    {
      "cell_type": "markdown",
      "source": [
        "print pyramid pattern with fixed alphabet symbol in every row"
      ],
      "metadata": {
        "id": "XqF3xli4QCau"
      }
    },
    {
      "cell_type": "code",
      "source": [
        "n = int(input())\n",
        "for i in range(n):\n",
        "  print(' '* (n - i - 1 ) + ((chr(65 + i) + ' ')* (i + 1)))"
      ],
      "metadata": {
        "colab": {
          "base_uri": "https://localhost:8080/"
        },
        "id": "DKVDWHk5QB2d",
        "outputId": "9efbcb3e-ffca-4edf-cdda-f3b7ad16e4e3"
      },
      "execution_count": null,
      "outputs": [
        {
          "output_type": "stream",
          "name": "stdout",
          "text": [
            "7\n",
            "      A \n",
            "     B B \n",
            "    C C C \n",
            "   D D D D \n",
            "  E E E E E \n",
            " F F F F F F \n",
            "G G G G G G G \n"
          ]
        }
      ]
    },
    {
      "cell_type": "markdown",
      "source": [
        "print pyramid pattern with digits in ascending order in every row"
      ],
      "metadata": {
        "id": "bhx3hZgteJoY"
      }
    },
    {
      "cell_type": "code",
      "source": [
        "n = int(input())\n",
        "\n",
        "for i in range(n):\n",
        "  print( '  ' * (n - i - 1),end=' ')\n",
        "  for j in range(i + 1):\n",
        "    print((str(j + 1) + '  '), end = ' ')\n",
        "  print()\n"
      ],
      "metadata": {
        "colab": {
          "base_uri": "https://localhost:8080/"
        },
        "id": "9sVqDJuneWIR",
        "outputId": "516ef2a5-116b-448d-bd91-40cf506016ab"
      },
      "execution_count": null,
      "outputs": [
        {
          "output_type": "stream",
          "name": "stdout",
          "text": [
            "12\n",
            "                       1   \n",
            "                     1   2   \n",
            "                   1   2   3   \n",
            "                 1   2   3   4   \n",
            "               1   2   3   4   5   \n",
            "             1   2   3   4   5   6   \n",
            "           1   2   3   4   5   6   7   \n",
            "         1   2   3   4   5   6   7   8   \n",
            "       1   2   3   4   5   6   7   8   9   \n",
            "     1   2   3   4   5   6   7   8   9   10   \n",
            "   1   2   3   4   5   6   7   8   9   10   11   \n",
            " 1   2   3   4   5   6   7   8   9   10   11   12   \n"
          ]
        }
      ]
    },
    {
      "cell_type": "markdown",
      "source": [
        "print pattern with alphabet symbol in dictionary order in each row"
      ],
      "metadata": {
        "id": "VpqOpdKqkrnK"
      }
    },
    {
      "cell_type": "code",
      "source": [
        "n = int(input())\n",
        "for i in range(n):\n",
        "  print(' ' * (n - i - 1),end = ' ')\n",
        "  for j in range(i + 1):\n",
        "    print( (chr(65 + j)  ), end = ' ')\n",
        "\n",
        "  print()"
      ],
      "metadata": {
        "colab": {
          "base_uri": "https://localhost:8080/"
        },
        "id": "1nN5ilBAlL85",
        "outputId": "3dd38c2e-8ddc-412f-ec3a-e3b37842d9e8"
      },
      "execution_count": null,
      "outputs": [
        {
          "output_type": "stream",
          "name": "stdout",
          "text": [
            "5\n",
            "     A \n",
            "    A B \n",
            "   A B C \n",
            "  A B C D \n",
            " A B C D E \n"
          ]
        }
      ]
    },
    {
      "cell_type": "markdown",
      "source": [
        "print pyramid with digits in decending order in each row"
      ],
      "metadata": {
        "id": "DOkJHNHk6YkJ"
      }
    },
    {
      "cell_type": "code",
      "source": [
        "n = int(input())\n",
        "for i in range(n):\n",
        "  print(' ' * (n - i - 1), end = '')\n",
        "  for j in range(i + 1 ):\n",
        "    print( str(n - j) + ' ',end = '')\n",
        "  print()"
      ],
      "metadata": {
        "colab": {
          "base_uri": "https://localhost:8080/"
        },
        "id": "tktDGiyG6t_M",
        "outputId": "8f50de4f-b3ef-49b3-85f8-717f6440a18e"
      },
      "execution_count": null,
      "outputs": [
        {
          "output_type": "stream",
          "name": "stdout",
          "text": [
            "5\n",
            "    5 \n",
            "   5 4 \n",
            "  5 4 3 \n",
            " 5 4 3 2 \n",
            "5 4 3 2 1 \n"
          ]
        }
      ]
    },
    {
      "cell_type": "markdown",
      "source": [
        "print pyramid with alphabets in reverse order of dictionay in each row"
      ],
      "metadata": {
        "id": "D7y1SXA48URW"
      }
    },
    {
      "cell_type": "code",
      "source": [
        "n = int(input())\n",
        "for i in range(n):\n",
        "  print(' ' * (n - i - 1), end = '')\n",
        "  for j in range(i + 1):\n",
        "    print(chr(65 + n - j - 1), end = ' ' )\n",
        "  print()"
      ],
      "metadata": {
        "colab": {
          "base_uri": "https://localhost:8080/"
        },
        "id": "paMTyvKU8f_P",
        "outputId": "4c148ded-5676-41b1-eb92-2029765a1c74"
      },
      "execution_count": null,
      "outputs": [
        {
          "output_type": "stream",
          "name": "stdout",
          "text": [
            "8\n",
            "       H \n",
            "      H G \n",
            "     H G F \n",
            "    H G F E \n",
            "   H G F E D \n",
            "  H G F E D C \n",
            " H G F E D C B \n",
            "H G F E D C B A \n"
          ]
        }
      ]
    },
    {
      "cell_type": "code",
      "source": [
        "n = int(input())\n",
        "for i in range(1,n+1):\n",
        "  space = len(str(n )) + 1 - len(str(i))\n",
        "  print(\" \"*(n - i  ) + (str(i) + \" \" * space)*(i))\n"
      ],
      "metadata": {
        "colab": {
          "base_uri": "https://localhost:8080/"
        },
        "id": "I5s3yq9ZGkql",
        "outputId": "4496f8c1-3e98-4532-d9ae-beb19e2f1b80"
      },
      "execution_count": null,
      "outputs": [
        {
          "output_type": "stream",
          "name": "stdout",
          "text": [
            "8\n",
            "       1 \n",
            "      2 2 \n",
            "     3 3 3 \n",
            "    4 4 4 4 \n",
            "   5 5 5 5 5 \n",
            "  6 6 6 6 6 6 \n",
            " 7 7 7 7 7 7 7 \n",
            "8 8 8 8 8 8 8 8 \n"
          ]
        }
      ]
    },
    {
      "cell_type": "markdown",
      "source": [
        "##Inverted pyramid"
      ],
      "metadata": {
        "id": "Z1fS0mm2eEpU"
      }
    },
    {
      "cell_type": "markdown",
      "source": [
        "print inverted pyramid with symbols"
      ],
      "metadata": {
        "id": "Rpc1Z9c4cJVM"
      }
    },
    {
      "cell_type": "code",
      "source": [
        "n = int(input())\n",
        "for i in range(n):\n",
        "  print(' ' *(i) +'* ' * (n - i))\n",
        "  "
      ],
      "metadata": {
        "colab": {
          "base_uri": "https://localhost:8080/"
        },
        "id": "rRhOed9WcRF1",
        "outputId": "14cda536-91be-4024-c77a-d716a3dfb35a"
      },
      "execution_count": null,
      "outputs": [
        {
          "output_type": "stream",
          "name": "stdout",
          "text": [
            "15\n",
            "* * * * * * * * * * * * * * * \n",
            " * * * * * * * * * * * * * * \n",
            "  * * * * * * * * * * * * * \n",
            "   * * * * * * * * * * * * \n",
            "    * * * * * * * * * * * \n",
            "     * * * * * * * * * * \n",
            "      * * * * * * * * * \n",
            "       * * * * * * * * \n",
            "        * * * * * * * \n",
            "         * * * * * * \n",
            "          * * * * * \n",
            "           * * * * \n",
            "            * * * \n",
            "             * * \n",
            "              * \n"
          ]
        }
      ]
    },
    {
      "cell_type": "markdown",
      "source": [
        "print inverted pyramid pattern with fixed digit in each row"
      ],
      "metadata": {
        "id": "JAYLDYbafdvq"
      }
    },
    {
      "cell_type": "code",
      "source": [
        "n = int(input())\n",
        "for i in range(n):\n",
        "  print(' '*i + (str(1 + i)+' '*(len(str(n))+1-len(str(i))))*(n - i))"
      ],
      "metadata": {
        "colab": {
          "base_uri": "https://localhost:8080/"
        },
        "id": "GPcbuZQ1fxOx",
        "outputId": "07fa1943-92c0-4dd9-bdb5-1a7ef71acbc9"
      },
      "execution_count": null,
      "outputs": [
        {
          "output_type": "stream",
          "name": "stdout",
          "text": [
            "5\n",
            "1 1 1 1 1 \n",
            " 2 2 2 2 \n",
            "  3 3 3 \n",
            "   4 4 \n",
            "    5 \n"
          ]
        }
      ]
    },
    {
      "cell_type": "markdown",
      "source": [
        "print inverted pyramid with fixed alphabet symbol in each row"
      ],
      "metadata": {
        "id": "LRGZXy9BnK7b"
      }
    },
    {
      "cell_type": "code",
      "source": [
        "n = int(input())\n",
        "for i in range(n):\n",
        "  print(' '*i + (chr(65 + i)+' ')*(n - i))"
      ],
      "metadata": {
        "colab": {
          "base_uri": "https://localhost:8080/"
        },
        "id": "Z7vkla1enZfc",
        "outputId": "8ac26422-42a8-4eb4-d3fc-f8ea6d79f475"
      },
      "execution_count": null,
      "outputs": [
        {
          "output_type": "stream",
          "name": "stdout",
          "text": [
            "8\n",
            "A A A A A A A A \n",
            " B B B B B B B \n",
            "  C C C C C C \n",
            "   D D D D D \n",
            "    E E E E \n",
            "     F F F \n",
            "      G G \n",
            "       H \n"
          ]
        }
      ]
    },
    {
      "cell_type": "markdown",
      "source": [
        "print inverted pyramid with digits in ascending order in every row"
      ],
      "metadata": {
        "id": "3cXpGWHKpIXO"
      }
    },
    {
      "cell_type": "code",
      "source": [
        "n = int(input())\n",
        "for i in range(n):\n",
        "  print(' ' * i , end = ' ')\n",
        "  for j in range( n - i ):\n",
        "    print(str(j + 1) , end = ' ')\n",
        "  print()"
      ],
      "metadata": {
        "colab": {
          "base_uri": "https://localhost:8080/"
        },
        "id": "3vxXatJapuh7",
        "outputId": "e7025959-5b14-4947-bb88-4c633aae3ac2"
      },
      "execution_count": null,
      "outputs": [
        {
          "output_type": "stream",
          "name": "stdout",
          "text": [
            "8\n",
            " 1 2 3 4 5 6 7 8 \n",
            "  1 2 3 4 5 6 7 \n",
            "   1 2 3 4 5 6 \n",
            "    1 2 3 4 5 \n",
            "     1 2 3 4 \n",
            "      1 2 3 \n",
            "       1 2 \n",
            "        1 \n"
          ]
        }
      ]
    },
    {
      "cell_type": "markdown",
      "source": [
        "print inverted pyramid pattern with alphabet symbol in dictionary order in every row"
      ],
      "metadata": {
        "id": "5JqLLuHZ1HGC"
      }
    },
    {
      "cell_type": "code",
      "source": [
        "n = int(input())\n",
        "for i in range(n):\n",
        "  print(' ' * i,end = '')\n",
        "  for j in range(n - i):\n",
        "    print((chr(65 + j) ),end = ' ')\n",
        "  print()"
      ],
      "metadata": {
        "colab": {
          "base_uri": "https://localhost:8080/"
        },
        "id": "Q6AzsAQY1R8O",
        "outputId": "a6556e0d-587b-4afc-f814-0fd696d4843c"
      },
      "execution_count": null,
      "outputs": [
        {
          "output_type": "stream",
          "name": "stdout",
          "text": [
            "8\n",
            "A B C D E F G H \n",
            " A B C D E F G \n",
            "  A B C D E F \n",
            "   A B C D E \n",
            "    A B C D \n",
            "     A B C \n",
            "      A B \n",
            "       A \n"
          ]
        }
      ]
    },
    {
      "cell_type": "markdown",
      "source": [
        "print inverted pyramid with digits in decending order in each row"
      ],
      "metadata": {
        "id": "LvY0j8QhY0Sb"
      }
    },
    {
      "cell_type": "code",
      "source": [
        "n = int(input())\n",
        "for i in range(n):\n",
        "  print(' ' * i,end = '')\n",
        "  for j in range(n - i):\n",
        "    print( (str(n - j) + ' '), end = '')\n",
        "  print()"
      ],
      "metadata": {
        "colab": {
          "base_uri": "https://localhost:8080/"
        },
        "id": "dpCn0OCEZAzp",
        "outputId": "7f5c0372-10ad-4c83-99c0-202c132d39ab"
      },
      "execution_count": null,
      "outputs": [
        {
          "output_type": "stream",
          "name": "stdout",
          "text": [
            "8\n",
            "8 7 6 5 4 3 2 1 \n",
            " 8 7 6 5 4 3 2 \n",
            "  8 7 6 5 4 3 \n",
            "   8 7 6 5 4 \n",
            "    8 7 6 5 \n",
            "     8 7 6 \n",
            "      8 7 \n",
            "       8 \n"
          ]
        }
      ]
    },
    {
      "cell_type": "markdown",
      "source": [
        "print inverted pyramid with alphabet in reverse of dictory order order in  each row "
      ],
      "metadata": {
        "id": "YpNEWg6dbtxl"
      }
    },
    {
      "cell_type": "code",
      "source": [
        "n = int(input())\n",
        "for i in range(n):\n",
        "  print(' ' * i,end = '')\n",
        "  for j in range(n - i):\n",
        "    print( (chr(65 + n - j - 1)) ,end = ' ')\n",
        "  print()"
      ],
      "metadata": {
        "colab": {
          "base_uri": "https://localhost:8080/"
        },
        "id": "ofhmcaWGcNIX",
        "outputId": "3f112f2d-a757-48c7-89b0-c4207ad6d3cc"
      },
      "execution_count": null,
      "outputs": [
        {
          "output_type": "stream",
          "name": "stdout",
          "text": [
            "5\n",
            "E D C B A \n",
            " E D C B \n",
            "  E D C \n",
            "   E D \n",
            "    E \n"
          ]
        }
      ]
    },
    {
      "cell_type": "markdown",
      "source": [
        "##Diamond Patterns"
      ],
      "metadata": {
        "id": "7N4jGBgpd6vH"
      }
    },
    {
      "cell_type": "markdown",
      "source": [
        "print diamond pattern with symbols"
      ],
      "metadata": {
        "id": "zoLegvg7eYjl"
      }
    },
    {
      "cell_type": "code",
      "source": [
        "n = int(input())\n",
        "for i in range(n):\n",
        "  print(' ' * (n - i - 1) + '* ' * (i + 1))\n",
        "for j in range(n - 1):\n",
        "  print( ' ' * (j + 1)  + '* ' * ( n - j - 1))"
      ],
      "metadata": {
        "colab": {
          "base_uri": "https://localhost:8080/"
        },
        "id": "vEgidA_sd6BK",
        "outputId": "4b9e1fff-fcfa-4617-df2f-3a737940288a"
      },
      "execution_count": null,
      "outputs": [
        {
          "output_type": "stream",
          "name": "stdout",
          "text": [
            "7\n",
            "      * \n",
            "     * * \n",
            "    * * * \n",
            "   * * * * \n",
            "  * * * * * \n",
            " * * * * * * \n",
            "* * * * * * * \n",
            " * * * * * * \n",
            "  * * * * * \n",
            "   * * * * \n",
            "    * * * \n",
            "     * * \n",
            "      * \n"
          ]
        }
      ]
    },
    {
      "cell_type": "markdown",
      "source": [
        "print diamond pattern with fixed digit in every row"
      ],
      "metadata": {
        "id": "_ukRmhI1lYMG"
      }
    },
    {
      "cell_type": "code",
      "source": [
        "n = int(input())\n",
        "for i in range(n):\n",
        "  print( ' ' * (n - i - 1) + (str(i + 1) + ' ')* ( i + 1))\n",
        "\n",
        "for j in range(n -1):\n",
        "  print(' ' * (j + 1 ) + (str(n - 1 - j) + ' ' )* (n - 1 - j))"
      ],
      "metadata": {
        "colab": {
          "base_uri": "https://localhost:8080/"
        },
        "id": "cRu-Fyxflg-7",
        "outputId": "e4450d0f-f50d-4fd6-f3ea-c7af9eb0562e"
      },
      "execution_count": null,
      "outputs": [
        {
          "output_type": "stream",
          "name": "stdout",
          "text": [
            "8\n",
            "       1 \n",
            "      2 2 \n",
            "     3 3 3 \n",
            "    4 4 4 4 \n",
            "   5 5 5 5 5 \n",
            "  6 6 6 6 6 6 \n",
            " 7 7 7 7 7 7 7 \n",
            "8 8 8 8 8 8 8 8 \n",
            " 7 7 7 7 7 7 7 \n",
            "  6 6 6 6 6 6 \n",
            "   5 5 5 5 5 \n",
            "    4 4 4 4 \n",
            "     3 3 3 \n",
            "      2 2 \n",
            "       1 \n"
          ]
        }
      ]
    },
    {
      "cell_type": "markdown",
      "source": [
        "print diamond pattern with alphabet symbol in each row"
      ],
      "metadata": {
        "id": "1gppN4AZoBDs"
      }
    },
    {
      "cell_type": "code",
      "source": [
        "n = int(input())\n",
        "for i in range(n):\n",
        "  print( ' ' * (n - i - 1) + (chr(65 + i) + ' ' ) * (i + 1 ))\n",
        "for j in range(n - 1):\n",
        "  print( ' '*(j + 1) + (chr(65 + n - j - 2) + ' ')* (n - 1 - j ))"
      ],
      "metadata": {
        "colab": {
          "base_uri": "https://localhost:8080/"
        },
        "id": "bJ-F2v8zoPU_",
        "outputId": "042159ab-4366-42ac-f716-5831f36590a4"
      },
      "execution_count": null,
      "outputs": [
        {
          "output_type": "stream",
          "name": "stdout",
          "text": [
            "8\n",
            "       A \n",
            "      B B \n",
            "     C C C \n",
            "    D D D D \n",
            "   E E E E E \n",
            "  F F F F F F \n",
            " G G G G G G G \n",
            "H H H H H H H H \n",
            " G G G G G G G \n",
            "  F F F F F F \n",
            "   E E E E E \n",
            "    D D D D \n",
            "     C C C \n",
            "      B B \n",
            "       A \n"
          ]
        }
      ]
    },
    {
      "cell_type": "markdown",
      "source": [
        "print diamond pattern with digits in ascending order in each row"
      ],
      "metadata": {
        "id": "vBkzkDaprLVr"
      }
    },
    {
      "cell_type": "code",
      "source": [
        "n = int(input())\n",
        "for i in range(n):\n",
        "  print(' ' * ( n - i - 1),end = '')\n",
        "  for j in range(i + 1):\n",
        "    print(str(j + 1),end = ' ')\n",
        "  print()\n",
        "\n",
        "for i in range(n ):\n",
        "  print(' ' * (i + 1 ), end = '')\n",
        "  for j in range(n - i - 1):\n",
        "    print(str(j + 1), end = ' ')\n",
        "  print()"
      ],
      "metadata": {
        "colab": {
          "base_uri": "https://localhost:8080/"
        },
        "id": "GV05rgQPujMj",
        "outputId": "66fcd31f-b78d-4e74-f41e-78669c938f33"
      },
      "execution_count": null,
      "outputs": [
        {
          "output_type": "stream",
          "name": "stdout",
          "text": [
            "8\n",
            "       1 \n",
            "      1 2 \n",
            "     1 2 3 \n",
            "    1 2 3 4 \n",
            "   1 2 3 4 5 \n",
            "  1 2 3 4 5 6 \n",
            " 1 2 3 4 5 6 7 \n",
            "1 2 3 4 5 6 7 8 \n",
            " 1 2 3 4 5 6 7 \n",
            "  1 2 3 4 5 6 \n",
            "   1 2 3 4 5 \n",
            "    1 2 3 4 \n",
            "     1 2 3 \n",
            "      1 2 \n",
            "       1 \n",
            "        \n"
          ]
        }
      ]
    },
    {
      "cell_type": "markdown",
      "source": [
        "print diamond pattern with alphabet symbols in dictionary order in each row"
      ],
      "metadata": {
        "id": "hC-AeLri9p1W"
      }
    },
    {
      "cell_type": "code",
      "source": [
        "n = int(input())\n",
        "for i in range(n):\n",
        "  print(' ' * (n - i - 1), end ='')\n",
        "  for j in range(i + 1):\n",
        "    print(chr(65 + j ), end = ' ')\n",
        "  print()\n",
        "\n",
        "for i in range(n - 1):\n",
        "  print(\" \"* (i + 1),end = \"\")\n",
        "  for j in range(n - i -1 ):\n",
        "    print((chr(65 + j ) ) ,end= \" \")\n",
        "  print()"
      ],
      "metadata": {
        "colab": {
          "base_uri": "https://localhost:8080/"
        },
        "id": "J4y25DnP93WX",
        "outputId": "671e7d4d-c624-470b-bb7e-480b8b49868b"
      },
      "execution_count": 18,
      "outputs": [
        {
          "output_type": "stream",
          "name": "stdout",
          "text": [
            "8\n",
            "       A \n",
            "      A B \n",
            "     A B C \n",
            "    A B C D \n",
            "   A B C D E \n",
            "  A B C D E F \n",
            " A B C D E F G \n",
            "A B C D E F G H \n",
            " A B C D E F G \n",
            "  A B C D E F \n",
            "   A B C D E \n",
            "    A B C D \n",
            "     A B C \n",
            "      A B \n",
            "       A \n"
          ]
        }
      ]
    },
    {
      "cell_type": "markdown",
      "source": [
        "print diamond pattern with digits in decending order in every row"
      ],
      "metadata": {
        "id": "8_qpYLYUjan2"
      }
    },
    {
      "cell_type": "code",
      "source": [
        "n = int(input())\n",
        "for i in range(n):\n",
        "  print( ' '*(n - i - 1),end = '')\n",
        "  for j in range(i + 1):\n",
        "    print(str(n - j),end = ' ')\n",
        "  print()\n",
        "\n",
        "for i in range(n):\n",
        "  print( \" \"* (i + 1),end = '')\n",
        "  for j in range(n - 1 - i):\n",
        "    print(str(n - j) ,end = \" \")\n",
        "  print()"
      ],
      "metadata": {
        "colab": {
          "base_uri": "https://localhost:8080/"
        },
        "id": "2qUkCJDxjjAB",
        "outputId": "540f7506-97ab-41c3-d90b-134b93750d1f"
      },
      "execution_count": 23,
      "outputs": [
        {
          "output_type": "stream",
          "name": "stdout",
          "text": [
            "15\n",
            "              15 \n",
            "             15 14 \n",
            "            15 14 13 \n",
            "           15 14 13 12 \n",
            "          15 14 13 12 11 \n",
            "         15 14 13 12 11 10 \n",
            "        15 14 13 12 11 10 9 \n",
            "       15 14 13 12 11 10 9 8 \n",
            "      15 14 13 12 11 10 9 8 7 \n",
            "     15 14 13 12 11 10 9 8 7 6 \n",
            "    15 14 13 12 11 10 9 8 7 6 5 \n",
            "   15 14 13 12 11 10 9 8 7 6 5 4 \n",
            "  15 14 13 12 11 10 9 8 7 6 5 4 3 \n",
            " 15 14 13 12 11 10 9 8 7 6 5 4 3 2 \n",
            "15 14 13 12 11 10 9 8 7 6 5 4 3 2 1 \n",
            " 15 14 13 12 11 10 9 8 7 6 5 4 3 2 \n",
            "  15 14 13 12 11 10 9 8 7 6 5 4 3 \n",
            "   15 14 13 12 11 10 9 8 7 6 5 4 \n",
            "    15 14 13 12 11 10 9 8 7 6 5 \n",
            "     15 14 13 12 11 10 9 8 7 6 \n",
            "      15 14 13 12 11 10 9 8 7 \n",
            "       15 14 13 12 11 10 9 8 \n",
            "        15 14 13 12 11 10 9 \n",
            "         15 14 13 12 11 10 \n",
            "          15 14 13 12 11 \n",
            "           15 14 13 12 \n",
            "            15 14 13 \n",
            "             15 14 \n",
            "              15 \n",
            "               \n"
          ]
        }
      ]
    },
    {
      "cell_type": "markdown",
      "source": [
        "print diamond pattern with alphabet symbol in reverse order of dictionary in each row"
      ],
      "metadata": {
        "id": "qQfpIzb6l2ux"
      }
    },
    {
      "cell_type": "code",
      "source": [
        "n = int(input())\n",
        "\n",
        "for i in range(n):\n",
        "  print(\" \" * (n - i - 1),end = \"\")\n",
        "  for j in range(i + 1 ):\n",
        "    print(chr(65 + n - j - 1),end = \" \")\n",
        "  print()\n",
        "\n",
        "for i in range(n - 1):\n",
        "  print(\" \" * (i + 1),end = \"\")\n",
        "  for j in range(n - i - 1):\n",
        "    print(chr(65 + n - j - 1),end = \" \")\n",
        "  print()"
      ],
      "metadata": {
        "colab": {
          "base_uri": "https://localhost:8080/"
        },
        "id": "VjZRcK8qmR7F",
        "outputId": "583deb29-8a0e-4a8b-b218-617f5cfbd2f2"
      },
      "execution_count": 30,
      "outputs": [
        {
          "output_type": "stream",
          "name": "stdout",
          "text": [
            "8\n",
            "       H \n",
            "      H G \n",
            "     H G F \n",
            "    H G F E \n",
            "   H G F E D \n",
            "  H G F E D C \n",
            " H G F E D C B \n",
            "H G F E D C B A \n",
            " H G F E D C B \n",
            "  H G F E D C \n",
            "   H G F E D \n",
            "    H G F E \n",
            "     H G F \n",
            "      H G \n",
            "       H \n"
          ]
        }
      ]
    },
    {
      "cell_type": "markdown",
      "source": [
        "## half diamond"
      ],
      "metadata": {
        "id": "x6bnVQYHovlR"
      }
    },
    {
      "cell_type": "markdown",
      "source": [
        " problem 50 print half diamond with * symbol"
      ],
      "metadata": {
        "id": "stFnfWbOo3-H"
      }
    },
    {
      "cell_type": "code",
      "source": [
        "n = int(input())\n",
        "\n",
        "for i in range(n):\n",
        "  print('* '* (i + 1))\n",
        "\n",
        "for j in range(n - 1):\n",
        "  print(\"* \"*(n - j - 1))"
      ],
      "metadata": {
        "colab": {
          "base_uri": "https://localhost:8080/"
        },
        "id": "hNxZJ1sqo-Ot",
        "outputId": "41812592-efbe-4399-837f-f927a00a545f"
      },
      "execution_count": 31,
      "outputs": [
        {
          "output_type": "stream",
          "name": "stdout",
          "text": [
            "5\n",
            "* \n",
            "* * \n",
            "* * * \n",
            "* * * * \n",
            "* * * * * \n",
            "* * * * \n",
            "* * * \n",
            "* * \n",
            "* \n"
          ]
        }
      ]
    },
    {
      "cell_type": "markdown",
      "source": [
        "#problem 51"
      ],
      "metadata": {
        "id": "kqqpVrv-p9Tq"
      }
    },
    {
      "cell_type": "markdown",
      "source": [
        "## Recursion/function"
      ],
      "metadata": {
        "id": "FyPTPerwjrzr"
      }
    },
    {
      "cell_type": "markdown",
      "source": [
        "recursion for reverse pattern"
      ],
      "metadata": {
        "id": "AsX2_0c4W6as"
      }
    },
    {
      "cell_type": "code",
      "source": [
        "def reversepat(n):\n",
        "  m = n\n",
        "  def pattern(m):\n",
        "    \n",
        "    print((str(m)+' ')*n)\n",
        "  for i in range(m):\n",
        "    pattern(m-i)"
      ],
      "metadata": {
        "id": "mZV_yo4uJC7p"
      },
      "execution_count": null,
      "outputs": []
    },
    {
      "cell_type": "code",
      "source": [
        "n = int(input())\n",
        "reversepat(n)"
      ],
      "metadata": {
        "colab": {
          "base_uri": "https://localhost:8080/"
        },
        "id": "2xE8BrchXy25",
        "outputId": "f66a132c-b759-40dd-ea51-eaee9957ed73"
      },
      "execution_count": null,
      "outputs": [
        {
          "output_type": "stream",
          "name": "stdout",
          "text": [
            "5\n",
            "5 5 5 5 5 \n",
            "4 4 4 4 4 \n",
            "3 3 3 3 3 \n",
            "2 2 2 2 2 \n",
            "1 1 1 1 1 \n"
          ]
        }
      ]
    },
    {
      "cell_type": "code",
      "source": [
        "def seriespat(n):\n",
        "  m = n\n",
        "  def pattern(m):\n",
        "    \n",
        "    print((str(m)+' ')*n)\n",
        "  for i in range(m):\n",
        "    pattern(i+1)\n"
      ],
      "metadata": {
        "id": "Hgs9RuE1Jw6K"
      },
      "execution_count": null,
      "outputs": []
    },
    {
      "cell_type": "code",
      "source": [
        "n = int(input())\n",
        "seriespat(n)"
      ],
      "metadata": {
        "colab": {
          "base_uri": "https://localhost:8080/"
        },
        "id": "MJ5oKfefXYWp",
        "outputId": "0d85a9fb-82a6-45fc-d994-146d8ae3f036"
      },
      "execution_count": null,
      "outputs": [
        {
          "output_type": "stream",
          "name": "stdout",
          "text": [
            "5\n",
            "1 1 1 1 1 \n",
            "2 2 2 2 2 \n",
            "3 3 3 3 3 \n",
            "4 4 4 4 4 \n",
            "5 5 5 5 5 \n"
          ]
        }
      ]
    },
    {
      "cell_type": "markdown",
      "source": [
        "print specific number "
      ],
      "metadata": {
        "id": "mxRmJEyZgcpE"
      }
    },
    {
      "cell_type": "code",
      "source": [
        "def callcharacter(n):\n",
        "    m = n\n",
        "    def stable(m):\n",
        "      print('A '*n)\n",
        "    [stable(m) for i in range(n)]"
      ],
      "metadata": {
        "id": "q4AdjzAxgmYW"
      },
      "execution_count": null,
      "outputs": []
    },
    {
      "cell_type": "code",
      "source": [
        "n = int(input())\n",
        "callcharacter(n)"
      ],
      "metadata": {
        "colab": {
          "base_uri": "https://localhost:8080/"
        },
        "id": "zzqPHpjNgZ4z",
        "outputId": "73a48a37-53f8-45e8-9b3f-53da8f565b8d"
      },
      "execution_count": null,
      "outputs": [
        {
          "output_type": "stream",
          "name": "stdout",
          "text": [
            "8\n",
            "A A A A A A A A \n",
            "A A A A A A A A \n",
            "A A A A A A A A \n",
            "A A A A A A A A \n",
            "A A A A A A A A \n",
            "A A A A A A A A \n",
            "A A A A A A A A \n",
            "A A A A A A A A \n"
          ]
        }
      ]
    }
  ]
}